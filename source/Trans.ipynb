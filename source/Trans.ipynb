{
 "cells": [
  {
   "cell_type": "code",
   "execution_count": 1,
   "metadata": {},
   "outputs": [
    {
     "name": "stdout",
     "output_type": "stream",
     "text": [
      "bd\n"
     ]
    }
   ],
   "source": [
    "import numpy as np\n",
    "\n",
    "MAC_SIZE = 128\n",
    "BIG_MAC_SIZE = 512\n",
    "file_name = \"data/input_mem.csv\"\n",
    "# 初始化一个128x128的二维数组，填充值为None或者适当的默认值\n",
    "data_matrix_A = np.empty((BIG_MAC_SIZE, BIG_MAC_SIZE), dtype=object)\n",
    "data_matrix_B = np.empty((BIG_MAC_SIZE, BIG_MAC_SIZE), dtype=object)\n",
    "\n",
    "row = 0\n",
    "col = 0\n",
    "\n",
    "with open(file_name, \"r\") as file:\n",
    "    for line in file:\n",
    "        elements = [line.strip()[i:i+2] for i in range(0, len(line.strip()), 2)]\n",
    "        for i in range(len(elements)):\n",
    "            if(row < BIG_MAC_SIZE and col < BIG_MAC_SIZE):\n",
    "                data_matrix_A[row][col+i] = elements[i]\n",
    "            else:\n",
    "                data_matrix_B[row-BIG_MAC_SIZE][col+i] = elements[i]\n",
    "        if(col + len(elements) < BIG_MAC_SIZE):\n",
    "            col += len(elements)\n",
    "        else:\n",
    "            col = 0\n",
    "            row += 1\n",
    "                \n",
    "\n",
    "# 现在，data_matrix是一个填充了文件数据的128x128的二维数组\n",
    "data_matrix_B = data_matrix_B.T\n",
    "print(data_matrix_B[2][0])  # 打印第一行第一列的元素\n",
    "\n",
    "\n",
    "\n",
    "def read_rows(matrix):\n",
    "    data_new = []\n",
    "    for h in range(BIG_MAC_SIZE//MAC_SIZE):\n",
    "        head = h*MAC_SIZE\n",
    "        for d in range(BIG_MAC_SIZE+MAC_SIZE):\n",
    "            if(d < BIG_MAC_SIZE):\n",
    "                for i in range(min(d + 1, MAC_SIZE)):\n",
    "                    data_new.append(matrix[i+head][d-i])\n",
    "            else:   \n",
    "                for i in range(MAC_SIZE+BIG_MAC_SIZE-d-1):\n",
    "                    data_new.append(matrix[i+head+d-BIG_MAC_SIZE+1][BIG_MAC_SIZE-i-1])\n",
    "    return data_new\n",
    "\n",
    "data_new_A = read_rows(data_matrix_A)\n",
    "data_new_B = read_rows(data_matrix_B)\n",
    "\n",
    "data = np.concatenate((data_new_A, data_new_B))\n",
    "\n",
    "f = open(\"data/input_mem_rebuilt.csv\", \"w\")\n",
    "l = len(data)//8\n",
    "for i in range(l):\n",
    "    for j in range(8):\n",
    "        f.write(data[i*8+j])\n",
    "    f.write(\"\\n\")\n",
    "    \n",
    "f.close()"
   ]
  }
 ],
 "metadata": {
  "kernelspec": {
   "display_name": "Python 3",
   "language": "python",
   "name": "python3"
  },
  "language_info": {
   "codemirror_mode": {
    "name": "ipython",
    "version": 3
   },
   "file_extension": ".py",
   "mimetype": "text/x-python",
   "name": "python",
   "nbconvert_exporter": "python",
   "pygments_lexer": "ipython3",
   "version": "3.12.2"
  }
 },
 "nbformat": 4,
 "nbformat_minor": 2
}
